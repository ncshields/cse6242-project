{
 "cells": [
  {
   "cell_type": "code",
   "execution_count": 2,
   "metadata": {},
   "outputs": [],
   "source": [
    "%load_ext autoreload"
   ]
  },
  {
   "cell_type": "code",
   "execution_count": 3,
   "metadata": {},
   "outputs": [],
   "source": [
    "%autoreload 2"
   ]
  },
  {
   "cell_type": "code",
   "execution_count": 4,
   "metadata": {},
   "outputs": [],
   "source": [
    "import numpy as np\n",
    "from scipy.cluster.vq import kmeans2\n",
    "from scipy.spatial.distance import cdist\n",
    "\n",
    "import datasets\n",
    "import preprocessing"
   ]
  },
  {
   "cell_type": "markdown",
   "metadata": {},
   "source": [
    "### Get data"
   ]
  },
  {
   "cell_type": "code",
   "execution_count": 5,
   "metadata": {},
   "outputs": [],
   "source": [
    "# BBC corpus\n",
    "bbc = datasets.get_bbc()"
   ]
  },
  {
   "cell_type": "code",
   "execution_count": 6,
   "metadata": {},
   "outputs": [
    {
     "data": {
      "text/plain": [
       "list"
      ]
     },
     "execution_count": 6,
     "metadata": {},
     "output_type": "execute_result"
    }
   ],
   "source": [
    "# bbc is a list of strings\n",
    "type(bbc)"
   ]
  },
  {
   "cell_type": "code",
   "execution_count": 7,
   "metadata": {},
   "outputs": [
    {
     "data": {
      "text/plain": [
       "str"
      ]
     },
     "execution_count": 7,
     "metadata": {},
     "output_type": "execute_result"
    }
   ],
   "source": [
    "type(bbc[0])"
   ]
  },
  {
   "cell_type": "code",
   "execution_count": 8,
   "metadata": {},
   "outputs": [
    {
     "data": {
      "text/plain": [
       "2225"
      ]
     },
     "execution_count": 8,
     "metadata": {},
     "output_type": "execute_result"
    }
   ],
   "source": [
    "len(bbc)"
   ]
  },
  {
   "cell_type": "code",
   "execution_count": 9,
   "metadata": {},
   "outputs": [
    {
     "data": {
      "text/plain": [
       "'tv future in the hands of viewers with home theatre systems  plasma high-definition tvs  and digital'"
      ]
     },
     "execution_count": 9,
     "metadata": {},
     "output_type": "execute_result"
    }
   ],
   "source": [
    "# first 100 chars of the 1st doc\n",
    "bbc[0][:100]"
   ]
  },
  {
   "cell_type": "code",
   "execution_count": 10,
   "metadata": {},
   "outputs": [],
   "source": [
    "# pre-process and vectorize\n",
    "processor = preprocessing.NLPProcessor('tf-idf')\n",
    "bbc_vectorized = processor.fit_transform(bbc)"
   ]
  },
  {
   "cell_type": "code",
   "execution_count": 11,
   "metadata": {},
   "outputs": [
    {
     "data": {
      "text/plain": [
       "scipy.sparse.csr.csr_matrix"
      ]
     },
     "execution_count": 11,
     "metadata": {},
     "output_type": "execute_result"
    }
   ],
   "source": [
    "# sparse matrix\n",
    "type(bbc_vectorized)"
   ]
  },
  {
   "cell_type": "code",
   "execution_count": 12,
   "metadata": {},
   "outputs": [
    {
     "data": {
      "text/plain": [
       "(2225, 29421)"
      ]
     },
     "execution_count": 12,
     "metadata": {},
     "output_type": "execute_result"
    }
   ],
   "source": [
    "# 2,225 docs with 29,421 sparse features\n",
    "bbc_vectorized.shape"
   ]
  },
  {
   "cell_type": "markdown",
   "metadata": {},
   "source": [
    "### Similarity metric"
   ]
  },
  {
   "cell_type": "code",
   "execution_count": 10,
   "metadata": {},
   "outputs": [],
   "source": [
    "from sklearn.metrics.pairwise import cosine_similarity"
   ]
  },
  {
   "cell_type": "code",
   "execution_count": 13,
   "metadata": {},
   "outputs": [
    {
     "data": {
      "text/plain": [
       "array([[0.09372963]])"
      ]
     },
     "execution_count": 13,
     "metadata": {},
     "output_type": "execute_result"
    }
   ],
   "source": [
    "# cosine similarity between 1st and 2nd doc\n",
    "cosine_similarity(bbc_vectorized[0], bbc_vectorized[1])"
   ]
  },
  {
   "cell_type": "code",
   "execution_count": 14,
   "metadata": {},
   "outputs": [
    {
     "data": {
      "text/plain": [
       "array([[1.        , 0.09372963, 0.16603523, ..., 0.14290773, 0.23992781,\n",
       "        0.18738048],\n",
       "       [0.09372963, 1.        , 0.08616861, ..., 0.04780253, 0.09995931,\n",
       "        0.08760382],\n",
       "       [0.16603523, 0.08616861, 1.        , ..., 0.09247675, 0.17008746,\n",
       "        0.1621905 ],\n",
       "       ...,\n",
       "       [0.14290773, 0.04780253, 0.09247675, ..., 1.        , 0.11614638,\n",
       "        0.08908685],\n",
       "       [0.23992781, 0.09995931, 0.17008746, ..., 0.11614638, 1.        ,\n",
       "        0.15640773],\n",
       "       [0.18738048, 0.08760382, 0.1621905 , ..., 0.08908685, 0.15640773,\n",
       "        1.        ]])"
      ]
     },
     "execution_count": 14,
     "metadata": {},
     "output_type": "execute_result"
    }
   ],
   "source": [
    "# cosine similarity of all 2,225 docs\n",
    "# in a matrix of 2,225 x 2,225\n",
    "cosine_similarity(bbc_vectorized)"
   ]
  },
  {
   "cell_type": "code",
   "execution_count": null,
   "metadata": {},
   "outputs": [],
   "source": [
    "# ..."
   ]
  },
  {
   "cell_type": "markdown",
   "metadata": {},
   "source": [
    "### Clustering"
   ]
  },
  {
   "cell_type": "code",
   "execution_count": 182,
   "metadata": {},
   "outputs": [],
   "source": [
    "from sklearn.cluster import KMeans"
   ]
  },
  {
   "cell_type": "code",
   "execution_count": 13,
   "metadata": {},
   "outputs": [],
   "source": [
    "k = KMeans(n_clusters=5)"
   ]
  },
  {
   "cell_type": "code",
   "execution_count": 14,
   "metadata": {},
   "outputs": [],
   "source": [
    "# this will take a while\n",
    "# k.fit(bbc_vectorized)"
   ]
  },
  {
   "cell_type": "code",
   "execution_count": 16,
   "metadata": {},
   "outputs": [],
   "source": [
    "# take only the top 1,000 most occurring tokens in the corpus \n",
    "p = preprocessing.NLPProcessor(max_features=1000)\n",
    "bbc_vectorized_features_bound = p.fit_transform(bbc)"
   ]
  },
  {
   "cell_type": "code",
   "execution_count": 16,
   "metadata": {},
   "outputs": [
    {
     "data": {
      "text/plain": [
       "(2225, 1000)"
      ]
     },
     "execution_count": 16,
     "metadata": {},
     "output_type": "execute_result"
    }
   ],
   "source": [
    "bbc_vectorized_features_bound.shape"
   ]
  },
  {
   "cell_type": "code",
   "execution_count": 20,
   "metadata": {},
   "outputs": [
    {
     "name": "stdout",
     "output_type": "stream",
     "text": [
      "CPU times: user 1min 17s, sys: 641 ms, total: 1min 18s\n",
      "Wall time: 26.3 s\n"
     ]
    },
    {
     "data": {
      "text/plain": [
       "KMeans(algorithm='auto', copy_x=True, init='k-means++', max_iter=300,\n",
       "    n_clusters=5, n_init=10, n_jobs=None, precompute_distances='auto',\n",
       "    random_state=None, tol=0.0001, verbose=0)"
      ]
     },
     "execution_count": 20,
     "metadata": {},
     "output_type": "execute_result"
    }
   ],
   "source": [
    "%%time\n",
    "k.fit(bbc_vectorized_features_bound)"
   ]
  },
  {
   "cell_type": "code",
   "execution_count": 21,
   "metadata": {},
   "outputs": [
    {
     "data": {
      "text/plain": [
       "array([2, 4, 0, ..., 2, 2, 0], dtype=int32)"
      ]
     },
     "execution_count": 21,
     "metadata": {},
     "output_type": "execute_result"
    }
   ],
   "source": [
    "k.predict(bbc_vectorized_features_bound)"
   ]
  },
  {
   "cell_type": "code",
   "execution_count": 94,
   "metadata": {},
   "outputs": [],
   "source": [
    "# ..."
   ]
  },
  {
   "cell_type": "markdown",
   "metadata": {},
   "source": [
    "### Interactive"
   ]
  },
  {
   "cell_type": "code",
   "execution_count": 17,
   "metadata": {},
   "outputs": [],
   "source": [
    "import interactive"
   ]
  },
  {
   "cell_type": "code",
   "execution_count": 18,
   "metadata": {},
   "outputs": [],
   "source": [
    "k = 10\n",
    "options = (1.1, 25, 0.01, 0)\n",
    "userU = -1"
   ]
  },
  {
   "cell_type": "code",
   "execution_count": 19,
   "metadata": {},
   "outputs": [],
   "source": [
    "data = bbc_vectorized_features_bound.todense()\n",
    "terms = np.array(p.vec.get_feature_names()).reshape((1, 1000))"
   ]
  },
  {
   "cell_type": "code",
   "execution_count": 20,
   "metadata": {},
   "outputs": [
    {
     "name": "stderr",
     "output_type": "stream",
     "text": [
      "/anaconda3/lib/python3.6/site-packages/scipy/cluster/vq.py:525: UserWarning: One of the clusters is empty. Re-run kmeans with a different initialization.\n",
      "  warnings.warn(\"One of the clusters is empty. \"\n"
     ]
    }
   ],
   "source": [
    "x = interactive.icluster(data, terms, [], k, userU=-1)\n",
    "clusterDocs, clusterKeyterms, keyterms, silhouette_avg = x"
   ]
  },
  {
   "cell_type": "code",
   "execution_count": 21,
   "metadata": {},
   "outputs": [
    {
     "data": {
      "text/plain": [
       "[['sony',\n",
       "  'film',\n",
       "  'tv',\n",
       "  'music',\n",
       "  'chart',\n",
       "  'original',\n",
       "  'sold',\n",
       "  'million',\n",
       "  '000',\n",
       "  'show',\n",
       "  'films',\n",
       "  'including',\n",
       "  'release',\n",
       "  'band',\n",
       "  'christmas',\n",
       "  'award',\n",
       "  'us',\n",
       "  'stars',\n",
       "  'gaming',\n",
       "  'children',\n",
       "  'include',\n",
       "  'series',\n",
       "  'rock',\n",
       "  'comedy',\n",
       "  'awards',\n",
       "  'shows',\n",
       "  'entertainment',\n",
       "  'movie',\n",
       "  'which',\n",
       "  'project',\n",
       "  'version',\n",
       "  'new',\n",
       "  'selling',\n",
       "  'screen',\n",
       "  'according',\n",
       "  'festival',\n",
       "  'box',\n",
       "  'across',\n",
       "  'aid',\n",
       "  'uk',\n",
       "  'its',\n",
       "  'prize',\n",
       "  'success',\n",
       "  'list',\n",
       "  '100',\n",
       "  'television',\n",
       "  'song',\n",
       "  'sale',\n",
       "  'video',\n",
       "  'production'],\n",
       " ['growth',\n",
       "  'economy',\n",
       "  'prices',\n",
       "  'economic',\n",
       "  'rose',\n",
       "  'rise',\n",
       "  'rate',\n",
       "  '2004',\n",
       "  'bank',\n",
       "  'rates',\n",
       "  'fall',\n",
       "  'dollar',\n",
       "  'fell',\n",
       "  'figures',\n",
       "  'demand',\n",
       "  'strong',\n",
       "  'oil',\n",
       "  'quarter',\n",
       "  '2005',\n",
       "  'analysts',\n",
       "  'higher',\n",
       "  'sales',\n",
       "  'market',\n",
       "  'profits',\n",
       "  'markets',\n",
       "  'interest',\n",
       "  'euro',\n",
       "  'spending',\n",
       "  'annual',\n",
       "  'however',\n",
       "  'consumer',\n",
       "  'sector',\n",
       "  'december',\n",
       "  'expected',\n",
       "  'trade',\n",
       "  'china',\n",
       "  'month',\n",
       "  'months',\n",
       "  'previous',\n",
       "  'increase',\n",
       "  'year',\n",
       "  'remain',\n",
       "  'period',\n",
       "  'lower',\n",
       "  'compared',\n",
       "  'biggest',\n",
       "  'its',\n",
       "  'value',\n",
       "  'remains',\n",
       "  'jobs'],\n",
       " ['users',\n",
       "  'technology',\n",
       "  'net',\n",
       "  'software',\n",
       "  'web',\n",
       "  'digital',\n",
       "  'internet',\n",
       "  'online',\n",
       "  'mobile',\n",
       "  'phone',\n",
       "  'using',\n",
       "  'networks',\n",
       "  'use',\n",
       "  'phones',\n",
       "  'computer',\n",
       "  'microsoft',\n",
       "  'broadband',\n",
       "  'websites',\n",
       "  'via',\n",
       "  'devices',\n",
       "  'information',\n",
       "  'pc',\n",
       "  'people',\n",
       "  'mobiles',\n",
       "  'service',\n",
       "  'pcs',\n",
       "  'windows',\n",
       "  'access',\n",
       "  'data',\n",
       "  'technologies',\n",
       "  'apple',\n",
       "  'systems',\n",
       "  'messages',\n",
       "  'content',\n",
       "  'mail',\n",
       "  'sites',\n",
       "  'download',\n",
       "  'site',\n",
       "  'research',\n",
       "  'network',\n",
       "  'services',\n",
       "  'google',\n",
       "  'virus',\n",
       "  'video',\n",
       "  'used',\n",
       "  'available',\n",
       "  'bt',\n",
       "  'website',\n",
       "  'customers',\n",
       "  'or'],\n",
       " ['you',\n",
       "  'do',\n",
       "  'can',\n",
       "  'what',\n",
       "  'them',\n",
       "  'something',\n",
       "  'like',\n",
       "  'your',\n",
       "  'thing',\n",
       "  'not',\n",
       "  'they',\n",
       "  'want',\n",
       "  'so',\n",
       "  'things',\n",
       "  'just',\n",
       "  'feel',\n",
       "  'if',\n",
       "  'find',\n",
       "  'doing',\n",
       "  'there',\n",
       "  'we',\n",
       "  'really',\n",
       "  'very',\n",
       "  'quite',\n",
       "  'even',\n",
       "  'get',\n",
       "  'idea',\n",
       "  'right',\n",
       "  'much',\n",
       "  'work',\n",
       "  'bbc',\n",
       "  'or',\n",
       "  'how',\n",
       "  'why',\n",
       "  'speaking',\n",
       "  'go',\n",
       "  'should',\n",
       "  'got',\n",
       "  'say',\n",
       "  'does',\n",
       "  'course',\n",
       "  'never',\n",
       "  'anything',\n",
       "  'fans',\n",
       "  'way',\n",
       "  'going',\n",
       "  'all',\n",
       "  'be',\n",
       "  'lot',\n",
       "  'though'],\n",
       " ['her',\n",
       "  'champion',\n",
       "  'won',\n",
       "  'olympic',\n",
       "  'australian',\n",
       "  'career',\n",
       "  'actress',\n",
       "  'my',\n",
       "  'star',\n",
       "  'awards',\n",
       "  'singer',\n",
       "  'final',\n",
       "  'best',\n",
       "  'win',\n",
       "  'she',\n",
       "  'award',\n",
       "  'old',\n",
       "  'title',\n",
       "  'beat',\n",
       "  'event',\n",
       "  'roddick',\n",
       "  'actor',\n",
       "  'winning',\n",
       "  'me',\n",
       "  'grand',\n",
       "  'oscar',\n",
       "  'second',\n",
       "  'american',\n",
       "  'his',\n",
       "  'race',\n",
       "  'comedy',\n",
       "  'album',\n",
       "  'debut',\n",
       "  'victory',\n",
       "  'named',\n",
       "  'round',\n",
       "  'winner',\n",
       "  'prize',\n",
       "  'top',\n",
       "  'film',\n",
       "  'took',\n",
       "  'open',\n",
       "  'rock',\n",
       "  'fourth',\n",
       "  'injury',\n",
       "  'went',\n",
       "  'davis',\n",
       "  'chart',\n",
       "  'who',\n",
       "  'match'],\n",
       " ['side',\n",
       "  'coach',\n",
       "  'cup',\n",
       "  'game',\n",
       "  'club',\n",
       "  'rugby',\n",
       "  'league',\n",
       "  'chelsea',\n",
       "  'team',\n",
       "  'england',\n",
       "  'squad',\n",
       "  'nations',\n",
       "  'arsenal',\n",
       "  'players',\n",
       "  'match',\n",
       "  'goal',\n",
       "  'season',\n",
       "  'injury',\n",
       "  'football',\n",
       "  'boss',\n",
       "  'robinson',\n",
       "  'win',\n",
       "  'his',\n",
       "  'ball',\n",
       "  'six',\n",
       "  'ireland',\n",
       "  'manager',\n",
       "  'scotland',\n",
       "  'liverpool',\n",
       "  'player',\n",
       "  'wales',\n",
       "  'manchester',\n",
       "  'against',\n",
       "  'played',\n",
       "  'victory',\n",
       "  'half',\n",
       "  'play',\n",
       "  'france',\n",
       "  'chance',\n",
       "  'playing',\n",
       "  'andy',\n",
       "  'him',\n",
       "  'saturday',\n",
       "  'italy',\n",
       "  'sport',\n",
       "  'irish',\n",
       "  'back',\n",
       "  'he',\n",
       "  'games',\n",
       "  'minutes'],\n",
       " ['ministers',\n",
       "  'law',\n",
       "  'government',\n",
       "  'secretary',\n",
       "  'court',\n",
       "  'parliament',\n",
       "  'commons',\n",
       "  'lords',\n",
       "  'eu',\n",
       "  'mps',\n",
       "  'rights',\n",
       "  'minister',\n",
       "  'rules',\n",
       "  'committee',\n",
       "  'evidence',\n",
       "  'spokesman',\n",
       "  'trial',\n",
       "  'case',\n",
       "  'should',\n",
       "  'would',\n",
       "  'human',\n",
       "  'police',\n",
       "  'public',\n",
       "  'legal',\n",
       "  'issue',\n",
       "  'laws',\n",
       "  'proposals',\n",
       "  'debate',\n",
       "  'liberal',\n",
       "  'lord',\n",
       "  'council',\n",
       "  'bill',\n",
       "  'anti',\n",
       "  'drugs',\n",
       "  'plans',\n",
       "  'mr',\n",
       "  'civil',\n",
       "  'member',\n",
       "  'authorities',\n",
       "  'prime',\n",
       "  'they',\n",
       "  'plan',\n",
       "  'lib',\n",
       "  'under',\n",
       "  'decision',\n",
       "  'accused',\n",
       "  'could',\n",
       "  'commission',\n",
       "  'ban',\n",
       "  'office'],\n",
       " ['film',\n",
       "  'oscar',\n",
       "  'actor',\n",
       "  'awards',\n",
       "  'hollywood',\n",
       "  'movie',\n",
       "  'award',\n",
       "  'actress',\n",
       "  'films',\n",
       "  'festival',\n",
       "  'stars',\n",
       "  'director',\n",
       "  'star',\n",
       "  'comedy',\n",
       "  'story',\n",
       "  'singer',\n",
       "  'prize',\n",
       "  'best',\n",
       "  'include',\n",
       "  'night',\n",
       "  'book',\n",
       "  'project',\n",
       "  'rock',\n",
       "  'role',\n",
       "  'screen',\n",
       "  'release',\n",
       "  'due',\n",
       "  'her',\n",
       "  '2002',\n",
       "  'including',\n",
       "  'band',\n",
       "  'box',\n",
       "  'love',\n",
       "  'winner',\n",
       "  'tv',\n",
       "  'show',\n",
       "  'original',\n",
       "  'she',\n",
       "  'received',\n",
       "  'chart',\n",
       "  'martin',\n",
       "  'february',\n",
       "  'charles',\n",
       "  'who',\n",
       "  'members',\n",
       "  'named',\n",
       "  'following',\n",
       "  'version',\n",
       "  'history',\n",
       "  'london'],\n",
       " ['shares',\n",
       "  'company',\n",
       "  'firm',\n",
       "  'stock',\n",
       "  'investors',\n",
       "  'financial',\n",
       "  'yukos',\n",
       "  'exchange',\n",
       "  'deal',\n",
       "  'market',\n",
       "  'analysts',\n",
       "  'unit',\n",
       "  'share',\n",
       "  'its',\n",
       "  'largest',\n",
       "  'giant',\n",
       "  'investment',\n",
       "  'oil',\n",
       "  'bid',\n",
       "  'executive',\n",
       "  'buy',\n",
       "  'business',\n",
       "  'chief',\n",
       "  'fraud',\n",
       "  'euros',\n",
       "  'firms',\n",
       "  'bought',\n",
       "  'group',\n",
       "  'agreed',\n",
       "  'russia',\n",
       "  'price',\n",
       "  'sale',\n",
       "  'india',\n",
       "  'companies',\n",
       "  'state',\n",
       "  'pay',\n",
       "  'russian',\n",
       "  'analyst',\n",
       "  'board',\n",
       "  'production',\n",
       "  'profits',\n",
       "  'reported',\n",
       "  'energy',\n",
       "  'value',\n",
       "  'however',\n",
       "  'biggest',\n",
       "  'agency',\n",
       "  'finance',\n",
       "  'sell',\n",
       "  'charges'],\n",
       " ['election',\n",
       "  'labour',\n",
       "  'party',\n",
       "  'blair',\n",
       "  'leader',\n",
       "  'tory',\n",
       "  'tories',\n",
       "  'tony',\n",
       "  'howard',\n",
       "  'chancellor',\n",
       "  'prime',\n",
       "  'gordon',\n",
       "  'brown',\n",
       "  'voters',\n",
       "  'conservative',\n",
       "  'kennedy',\n",
       "  'liberal',\n",
       "  'mr',\n",
       "  'campaign',\n",
       "  'minister',\n",
       "  'lib',\n",
       "  'michael',\n",
       "  'government',\n",
       "  'britain',\n",
       "  'general',\n",
       "  'taxes',\n",
       "  'tax',\n",
       "  'mp',\n",
       "  'iraq',\n",
       "  'immigration',\n",
       "  'secretary',\n",
       "  'speech',\n",
       "  'poll',\n",
       "  'charles',\n",
       "  'political',\n",
       "  'stand',\n",
       "  'parties',\n",
       "  'ukip',\n",
       "  'his',\n",
       "  'public',\n",
       "  'mps',\n",
       "  'plans',\n",
       "  'claims',\n",
       "  'insisted',\n",
       "  'kilroy',\n",
       "  'vote',\n",
       "  'war',\n",
       "  'policy',\n",
       "  'education',\n",
       "  'he']]"
      ]
     },
     "execution_count": 21,
     "metadata": {},
     "output_type": "execute_result"
    }
   ],
   "source": [
    "clusterKeyterms"
   ]
  },
  {
   "cell_type": "code",
   "execution_count": 22,
   "metadata": {},
   "outputs": [
    {
     "data": {
      "text/plain": [
       "['[\"2223\"]',\n",
       " '[\"2221\"]',\n",
       " '[\"2218\"]',\n",
       " '[\"2224\"]',\n",
       " '[\"2225\"]',\n",
       " '[\"2225\"]',\n",
       " '[\"2202\"]',\n",
       " '[\"2213\"]',\n",
       " '[\"2177\"]',\n",
       " '[\"2222\"]']"
      ]
     },
     "execution_count": 22,
     "metadata": {},
     "output_type": "execute_result"
    }
   ],
   "source": [
    "clusterDocs"
   ]
  },
  {
   "cell_type": "code",
   "execution_count": 23,
   "metadata": {},
   "outputs": [
    {
     "data": {
      "text/plain": [
       "'rem announce new glasgow concert us band rem have announced plans to perform for 10 000 scottish fan'"
      ]
     },
     "execution_count": 23,
     "metadata": {},
     "output_type": "execute_result"
    }
   ],
   "source": [
    "bbc[2223 - 1][:100]"
   ]
  },
  {
   "cell_type": "code",
   "execution_count": 24,
   "metadata": {},
   "outputs": [
    {
     "data": {
      "text/plain": [
       "'cars pull down us retail figures us retail sales fell 0.3% in january  the biggest monthly decline since last august  driven down by a heavy fall in car sales.  the 3.3% fall in car sales had been exp'"
      ]
     },
     "execution_count": 24,
     "metadata": {},
     "output_type": "execute_result"
    }
   ],
   "source": [
    "bbc[2221 - 1][:200]"
   ]
  },
  {
   "cell_type": "code",
   "execution_count": 25,
   "metadata": {},
   "outputs": [
    {
     "data": {
      "text/plain": [
       "'rings of steel combat net attacks gambling is hugely popular  especially with tech-savvy criminals.  many extortionists are targeting net-based betting firms and threatening to cripple their websites '"
      ]
     },
     "execution_count": 25,
     "metadata": {},
     "output_type": "execute_result"
    }
   ],
   "source": [
    "bbc[2218 - 1][:200]"
   ]
  },
  {
   "cell_type": "markdown",
   "metadata": {},
   "source": [
    "#### Get user input"
   ]
  },
  {
   "cell_type": "code",
   "execution_count": 29,
   "metadata": {},
   "outputs": [
    {
     "data": {
      "text/plain": [
       "[['sony', 'film', 'tv', 'music', 'chart'],\n",
       " ['growth', 'economy', 'prices', 'economic', 'rose'],\n",
       " ['users', 'technology', 'net', 'software', 'web'],\n",
       " ['you', 'do', 'can', 'what', 'them'],\n",
       " ['her', 'champion', 'won', 'olympic', 'australian'],\n",
       " ['side', 'coach', 'cup', 'game', 'club'],\n",
       " ['ministers', 'law', 'government', 'secretary', 'court'],\n",
       " ['film', 'oscar', 'actor', 'awards', 'hollywood'],\n",
       " ['shares', 'company', 'firm', 'stock', 'investors'],\n",
       " ['election', 'labour', 'party', 'blair', 'leader']]"
      ]
     },
     "execution_count": 29,
     "metadata": {},
     "output_type": "execute_result"
    }
   ],
   "source": [
    "user_input = [x[:5] for x in clusterKeyterms]\n",
    "user_input"
   ]
  },
  {
   "cell_type": "code",
   "execution_count": 36,
   "metadata": {},
   "outputs": [],
   "source": [
    "user_input = [\n",
    "    ['film', 'tv', 'music', 'oscar'],\n",
    "    ['growth', 'economy', 'stock', 'investor'],\n",
    "    ['technology', 'web', 'software'],\n",
    "    ['olympic', 'game', 'cup', 'coach', 'game', 'club'],\n",
    "    ['law', 'government', 'election', 'blair'],\n",
    "]"
   ]
  },
  {
   "cell_type": "code",
   "execution_count": 37,
   "metadata": {},
   "outputs": [
    {
     "name": "stderr",
     "output_type": "stream",
     "text": [
      "/anaconda3/lib/python3.6/site-packages/scipy/cluster/vq.py:525: UserWarning: One of the clusters is empty. Re-run kmeans with a different initialization.\n",
      "  warnings.warn(\"One of the clusters is empty. \"\n"
     ]
    }
   ],
   "source": [
    "x = interactive.icluster(data, terms, user_input, 5, userU=+1)\n",
    "clusterDocs, clusterKeyterms, keyterms, silhouette_avg = x"
   ]
  },
  {
   "cell_type": "code",
   "execution_count": 38,
   "metadata": {},
   "outputs": [
    {
     "data": {
      "text/plain": [
       "[['film', 'awards', 'award', 'actor', 'actress'],\n",
       " ['growth', 'shares', 'market', 'analysts', 'oil'],\n",
       " ['users', 'technology', 'digital', 'software', 'net'],\n",
       " ['cup', 'game', 'match', 'coach', 'injury'],\n",
       " ['labour', 'government', 'election', 'party', 'blair']]"
      ]
     },
     "execution_count": 38,
     "metadata": {},
     "output_type": "execute_result"
    }
   ],
   "source": [
    "[x[:5] for x in clusterKeyterms]"
   ]
  },
  {
   "cell_type": "code",
   "execution_count": null,
   "metadata": {},
   "outputs": [],
   "source": []
  }
 ],
 "metadata": {
  "kernelspec": {
   "display_name": "Python 3",
   "language": "python",
   "name": "python3"
  },
  "language_info": {
   "codemirror_mode": {
    "name": "ipython",
    "version": 3
   },
   "file_extension": ".py",
   "mimetype": "text/x-python",
   "name": "python",
   "nbconvert_exporter": "python",
   "pygments_lexer": "ipython3",
   "version": "3.6.5"
  }
 },
 "nbformat": 4,
 "nbformat_minor": 2
}
