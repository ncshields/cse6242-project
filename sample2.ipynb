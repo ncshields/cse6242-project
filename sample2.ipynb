{
 "cells": [
  {
   "cell_type": "code",
   "execution_count": 2,
   "metadata": {},
   "outputs": [],
   "source": [
    "%load_ext autoreload"
   ]
  },
  {
   "cell_type": "code",
   "execution_count": 3,
   "metadata": {},
   "outputs": [],
   "source": [
    "%autoreload 2"
   ]
  },
  {
   "cell_type": "code",
   "execution_count": 4,
   "metadata": {},
   "outputs": [],
   "source": [
    "import numpy as np\n",
    "from scipy.cluster.vq import kmeans2\n",
    "from scipy.spatial.distance import cdist\n",
    "\n",
    "import datasets\n",
    "import preprocessing"
   ]
  },
  {
   "cell_type": "markdown",
   "metadata": {},
   "source": [
    "### Get data"
   ]
  },
  {
   "cell_type": "code",
   "execution_count": 5,
   "metadata": {},
   "outputs": [],
   "source": [
    "# BBC corpus\n",
    "bbc = datasets.get_bbc()"
   ]
  },
  {
   "cell_type": "code",
   "execution_count": 6,
   "metadata": {},
   "outputs": [
    {
     "data": {
      "text/plain": [
       "list"
      ]
     },
     "execution_count": 6,
     "metadata": {},
     "output_type": "execute_result"
    }
   ],
   "source": [
    "# bbc is a list of strings\n",
    "type(bbc)"
   ]
  },
  {
   "cell_type": "code",
   "execution_count": 7,
   "metadata": {},
   "outputs": [
    {
     "data": {
      "text/plain": [
       "str"
      ]
     },
     "execution_count": 7,
     "metadata": {},
     "output_type": "execute_result"
    }
   ],
   "source": [
    "type(bbc[0])"
   ]
  },
  {
   "cell_type": "code",
   "execution_count": 8,
   "metadata": {},
   "outputs": [
    {
     "data": {
      "text/plain": [
       "2225"
      ]
     },
     "execution_count": 8,
     "metadata": {},
     "output_type": "execute_result"
    }
   ],
   "source": [
    "len(bbc)"
   ]
  },
  {
   "cell_type": "code",
   "execution_count": 9,
   "metadata": {},
   "outputs": [
    {
     "data": {
      "text/plain": [
       "'tv future in the hands of viewers with home theatre systems  plasma high-definition tvs  and digital'"
      ]
     },
     "execution_count": 9,
     "metadata": {},
     "output_type": "execute_result"
    }
   ],
   "source": [
    "# first 100 chars of the 1st doc\n",
    "bbc[0][:100]"
   ]
  },
  {
   "cell_type": "code",
   "execution_count": 10,
   "metadata": {},
   "outputs": [],
   "source": [
    "# pre-process and vectorize\n",
    "processor = preprocessing.NLPProcessor('tf-idf')\n",
    "bbc_vectorized = processor.fit_transform(bbc)"
   ]
  },
  {
   "cell_type": "code",
   "execution_count": 11,
   "metadata": {},
   "outputs": [
    {
     "data": {
      "text/plain": [
       "scipy.sparse.csr.csr_matrix"
      ]
     },
     "execution_count": 11,
     "metadata": {},
     "output_type": "execute_result"
    }
   ],
   "source": [
    "# sparse matrix\n",
    "type(bbc_vectorized)"
   ]
  },
  {
   "cell_type": "code",
   "execution_count": 12,
   "metadata": {},
   "outputs": [
    {
     "data": {
      "text/plain": [
       "(2225, 29421)"
      ]
     },
     "execution_count": 12,
     "metadata": {},
     "output_type": "execute_result"
    }
   ],
   "source": [
    "# 2,225 docs with 29,421 sparse features\n",
    "bbc_vectorized.shape"
   ]
  },
  {
   "cell_type": "markdown",
   "metadata": {},
   "source": [
    "### Similarity metric"
   ]
  },
  {
   "cell_type": "code",
   "execution_count": 10,
   "metadata": {},
   "outputs": [],
   "source": [
    "from sklearn.metrics.pairwise import cosine_similarity"
   ]
  },
  {
   "cell_type": "code",
   "execution_count": 13,
   "metadata": {},
   "outputs": [
    {
     "data": {
      "text/plain": [
       "array([[0.09372963]])"
      ]
     },
     "execution_count": 13,
     "metadata": {},
     "output_type": "execute_result"
    }
   ],
   "source": [
    "# cosine similarity between 1st and 2nd doc\n",
    "cosine_similarity(bbc_vectorized[0], bbc_vectorized[1])"
   ]
  },
  {
   "cell_type": "code",
   "execution_count": 14,
   "metadata": {},
   "outputs": [
    {
     "data": {
      "text/plain": [
       "array([[1.        , 0.09372963, 0.16603523, ..., 0.14290773, 0.23992781,\n",
       "        0.18738048],\n",
       "       [0.09372963, 1.        , 0.08616861, ..., 0.04780253, 0.09995931,\n",
       "        0.08760382],\n",
       "       [0.16603523, 0.08616861, 1.        , ..., 0.09247675, 0.17008746,\n",
       "        0.1621905 ],\n",
       "       ...,\n",
       "       [0.14290773, 0.04780253, 0.09247675, ..., 1.        , 0.11614638,\n",
       "        0.08908685],\n",
       "       [0.23992781, 0.09995931, 0.17008746, ..., 0.11614638, 1.        ,\n",
       "        0.15640773],\n",
       "       [0.18738048, 0.08760382, 0.1621905 , ..., 0.08908685, 0.15640773,\n",
       "        1.        ]])"
      ]
     },
     "execution_count": 14,
     "metadata": {},
     "output_type": "execute_result"
    }
   ],
   "source": [
    "# cosine similarity of all 2,225 docs\n",
    "# in a matrix of 2,225 x 2,225\n",
    "cosine_similarity(bbc_vectorized)"
   ]
  },
  {
   "cell_type": "code",
   "execution_count": null,
   "metadata": {},
   "outputs": [],
   "source": [
    "# ..."
   ]
  },
  {
   "cell_type": "markdown",
   "metadata": {},
   "source": [
    "### Clustering"
   ]
  },
  {
   "cell_type": "code",
   "execution_count": 182,
   "metadata": {},
   "outputs": [],
   "source": [
    "from sklearn.cluster import KMeans"
   ]
  },
  {
   "cell_type": "code",
   "execution_count": 13,
   "metadata": {},
   "outputs": [],
   "source": [
    "k = KMeans(n_clusters=5)"
   ]
  },
  {
   "cell_type": "code",
   "execution_count": 14,
   "metadata": {},
   "outputs": [],
   "source": [
    "# this will take a while\n",
    "# k.fit(bbc_vectorized)"
   ]
  },
  {
   "cell_type": "code",
   "execution_count": 16,
   "metadata": {},
   "outputs": [],
   "source": [
    "# take only the top 1,000 most occurring tokens in the corpus \n",
    "p = preprocessing.NLPProcessor(max_features=1000)\n",
    "bbc_vectorized_features_bound = p.fit_transform(bbc)"
   ]
  },
  {
   "cell_type": "code",
   "execution_count": 16,
   "metadata": {},
   "outputs": [
    {
     "data": {
      "text/plain": [
       "(2225, 1000)"
      ]
     },
     "execution_count": 16,
     "metadata": {},
     "output_type": "execute_result"
    }
   ],
   "source": [
    "bbc_vectorized_features_bound.shape"
   ]
  },
  {
   "cell_type": "code",
   "execution_count": 20,
   "metadata": {},
   "outputs": [
    {
     "name": "stdout",
     "output_type": "stream",
     "text": [
      "CPU times: user 1min 17s, sys: 641 ms, total: 1min 18s\n",
      "Wall time: 26.3 s\n"
     ]
    },
    {
     "data": {
      "text/plain": [
       "KMeans(algorithm='auto', copy_x=True, init='k-means++', max_iter=300,\n",
       "    n_clusters=5, n_init=10, n_jobs=None, precompute_distances='auto',\n",
       "    random_state=None, tol=0.0001, verbose=0)"
      ]
     },
     "execution_count": 20,
     "metadata": {},
     "output_type": "execute_result"
    }
   ],
   "source": [
    "%%time\n",
    "k.fit(bbc_vectorized_features_bound)"
   ]
  },
  {
   "cell_type": "code",
   "execution_count": 21,
   "metadata": {},
   "outputs": [
    {
     "data": {
      "text/plain": [
       "array([2, 4, 0, ..., 2, 2, 0], dtype=int32)"
      ]
     },
     "execution_count": 21,
     "metadata": {},
     "output_type": "execute_result"
    }
   ],
   "source": [
    "k.predict(bbc_vectorized_features_bound)"
   ]
  },
  {
   "cell_type": "code",
   "execution_count": 94,
   "metadata": {},
   "outputs": [],
   "source": [
    "# ..."
   ]
  },
  {
   "cell_type": "markdown",
   "metadata": {},
   "source": [
    "### Interactive"
   ]
  },
  {
   "cell_type": "code",
   "execution_count": 51,
   "metadata": {},
   "outputs": [],
   "source": [
    "import interactive"
   ]
  },
  {
   "cell_type": "code",
   "execution_count": 52,
   "metadata": {},
   "outputs": [],
   "source": [
    "k = 10  # start with assuming there are 10 clusters\n",
    "options = (1.1, 25, 0.01, 0)\n",
    "userU = -1"
   ]
  },
  {
   "cell_type": "code",
   "execution_count": 53,
   "metadata": {},
   "outputs": [],
   "source": [
    "data = bbc_vectorized_features_bound.todense()\n",
    "terms = np.array(p.vec.get_feature_names()).reshape((1, 1000))"
   ]
  },
  {
   "cell_type": "code",
   "execution_count": 58,
   "metadata": {},
   "outputs": [
    {
     "name": "stderr",
     "output_type": "stream",
     "text": [
      "/anaconda3/lib/python3.6/site-packages/scipy/cluster/vq.py:525: UserWarning: One of the clusters is empty. Re-run kmeans with a different initialization.\n",
      "  warnings.warn(\"One of the clusters is empty. \"\n"
     ]
    }
   ],
   "source": [
    "# run the algo with no user input\n",
    "x = interactive.icluster(data, terms, [], k, userU=-1)\n",
    "clusterDocs, clusterKeyterms, keyterms, silhouette_avg = x"
   ]
  },
  {
   "cell_type": "code",
   "execution_count": 59,
   "metadata": {},
   "outputs": [
    {
     "data": {
      "text/plain": [
       "[[1, 22, 25, 28, 37],\n",
       " [6, 7, 14, 36, 86],\n",
       " [5, 10, 11, 27, 30],\n",
       " [2, 29, 31, 35, 52],\n",
       " [12, 13, 40, 43, 50],\n",
       " [3, 4, 8, 9, 15],\n",
       " [16, 19, 20, 21, 32],\n",
       " [17, 18, 31, 38, 39],\n",
       " [31, 60, 71, 74, 76],\n",
       " [26, 33, 37, 41, 45]]"
      ]
     },
     "execution_count": 59,
     "metadata": {},
     "output_type": "execute_result"
    }
   ],
   "source": [
    "# sample docs in clusters 0 to k-1\n",
    "[x[:5] for x in clusterDocs]"
   ]
  },
  {
   "cell_type": "code",
   "execution_count": 60,
   "metadata": {},
   "outputs": [
    {
     "data": {
      "text/plain": [
       "[['digital', 'technology', 'video', 'users', 'mobile'],\n",
       " ['election', 'labour', 'party', 'leader', 'tory'],\n",
       " ['film', 'awards', 'award', 'actor', 'oscar'],\n",
       " ['law', 'court', 'ministers', 'secretary', 'lords'],\n",
       " ['growth', 'economy', 'prices', 'economic', 'rose'],\n",
       " ['game', 'cup', 'coach', 'match', 'injury'],\n",
       " ['firm', 'company', 'shares', 'financial', 'stock'],\n",
       " ['can', 'you', 'do', 'people', 'they'],\n",
       " ['irish', 'williams', 'fans', 'staff', 'rugby'],\n",
       " ['band', '000', 'show', 'chart', 'health']]"
      ]
     },
     "execution_count": 60,
     "metadata": {},
     "output_type": "execute_result"
    }
   ],
   "source": [
    "# there seem to be some legitimate clusters forming\n",
    "# some overlap\n",
    "# and some catchall cluster for all common words (need stop word removal?)\n",
    "[x[:5] for x in clusterKeyterms]"
   ]
  },
  {
   "cell_type": "markdown",
   "metadata": {},
   "source": [
    "#### Get user input\n",
    "Specify number of clusters and top terms"
   ]
  },
  {
   "cell_type": "code",
   "execution_count": 61,
   "metadata": {},
   "outputs": [
    {
     "data": {
      "text/plain": [
       "[['digital', 'technology', 'video', 'users', 'mobile'],\n",
       " ['election', 'labour', 'party', 'leader', 'tory'],\n",
       " ['film', 'awards', 'award', 'actor', 'oscar'],\n",
       " ['law', 'court', 'ministers', 'secretary', 'lords'],\n",
       " ['growth', 'economy', 'prices', 'economic', 'rose'],\n",
       " ['game', 'cup', 'coach', 'match', 'injury'],\n",
       " ['firm', 'company', 'shares', 'financial', 'stock'],\n",
       " ['can', 'you', 'do', 'people', 'they'],\n",
       " ['irish', 'williams', 'fans', 'staff', 'rugby'],\n",
       " ['band', '000', 'show', 'chart', 'health']]"
      ]
     },
     "execution_count": 61,
     "metadata": {},
     "output_type": "execute_result"
    }
   ],
   "source": [
    "user_input = [x[:5] for x in clusterKeyterms]\n",
    "user_input"
   ]
  },
  {
   "cell_type": "code",
   "execution_count": 62,
   "metadata": {},
   "outputs": [],
   "source": [
    "# looks like there are 5 clusters at a first glance\n",
    "user_input = [\n",
    "    ['film', 'tv', 'music', 'oscar'],\n",
    "    ['growth', 'economy', 'stock', 'investor'],\n",
    "    ['technology', 'web', 'software'],\n",
    "    ['olympic', 'game', 'cup', 'coach', 'game', 'club'],\n",
    "    ['law', 'government', 'election', 'blair'],\n",
    "]"
   ]
  },
  {
   "cell_type": "code",
   "execution_count": 63,
   "metadata": {},
   "outputs": [
    {
     "name": "stderr",
     "output_type": "stream",
     "text": [
      "/anaconda3/lib/python3.6/site-packages/scipy/cluster/vq.py:525: UserWarning: One of the clusters is empty. Re-run kmeans with a different initialization.\n",
      "  warnings.warn(\"One of the clusters is empty. \"\n"
     ]
    }
   ],
   "source": [
    "# run it with user input\n",
    "x = interactive.icluster(data, terms, user_input, len(user_input), userU=+1)\n",
    "clusterDocs, clusterKeyterms, keyterms, silhouette_avg = x"
   ]
  },
  {
   "cell_type": "code",
   "execution_count": 64,
   "metadata": {},
   "outputs": [
    {
     "data": {
      "text/plain": [
       "[['film', 'awards', 'award', 'actor', 'actress'],\n",
       " ['growth', 'analysts', 'shares', 'market', 'oil'],\n",
       " ['users', 'technology', 'microsoft', 'online', 'digital'],\n",
       " ['cup', 'game', 'match', 'coach', 'side'],\n",
       " ['mr', 'labour', 'election', 'government', 'party']]"
      ]
     },
     "execution_count": 64,
     "metadata": {},
     "output_type": "execute_result"
    }
   ],
   "source": [
    "# seem to be getting better clusters\n",
    "[x[:5] for x in clusterKeyterms]"
   ]
  },
  {
   "cell_type": "code",
   "execution_count": 79,
   "metadata": {},
   "outputs": [
    {
     "data": {
      "text/plain": [
       "2225"
      ]
     },
     "execution_count": 79,
     "metadata": {},
     "output_type": "execute_result"
    }
   ],
   "source": [
    "len(bbc)"
   ]
  },
  {
   "cell_type": "code",
   "execution_count": 80,
   "metadata": {},
   "outputs": [
    {
     "data": {
      "text/plain": [
       "2491"
      ]
     },
     "execution_count": 80,
     "metadata": {},
     "output_type": "execute_result"
    }
   ],
   "source": [
    "sum([len(x) for x in clusterDocs])"
   ]
  },
  {
   "cell_type": "code",
   "execution_count": 65,
   "metadata": {},
   "outputs": [
    {
     "data": {
      "text/plain": [
       "[[5, 10, 11, 27, 30],\n",
       " [12, 13, 16, 19, 20],\n",
       " [1, 18, 20, 21, 22],\n",
       " [3, 4, 8, 9, 15],\n",
       " [1, 2, 6, 7, 14]]"
      ]
     },
     "execution_count": 65,
     "metadata": {},
     "output_type": "execute_result"
    }
   ],
   "source": [
    "[x[:5] for x in clusterDocs]"
   ]
  },
  {
   "cell_type": "code",
   "execution_count": 84,
   "metadata": {},
   "outputs": [
    {
     "data": {
      "text/plain": [
       "2224"
      ]
     },
     "execution_count": 84,
     "metadata": {},
     "output_type": "execute_result"
    }
   ],
   "source": [
    "clusterDocs[-1][-1]"
   ]
  },
  {
   "cell_type": "code",
   "execution_count": 82,
   "metadata": {},
   "outputs": [
    {
     "name": "stdout",
     "output_type": "stream",
     "text": [
      "Cluster 1\n",
      "Key terms  : film,awards,award,actor,actress\n",
      "Sample doc : howard hits back at mongrel jibe michael howard has said a claim by peter hain that the tory leader is acting like an  attack mongrel  shows labour is  rattled  by the opposition.  in an upbeat speech\n",
      "==========\n",
      "Cluster 2\n",
      "Key terms  : growth,analysts,shares,market,oil\n",
      "Sample doc : crude oil prices back above $50 cold weather across parts of the united states and much of europe has pushed us crude oil prices above $50 a barrel for the first time in almost three months.  freezing\n",
      "==========\n",
      "Cluster 3\n",
      "Key terms  : users,technology,microsoft,online,digital\n",
      "Sample doc : worldcom boss  left books alone  former worldcom boss bernie ebbers  who is accused of overseeing an $11bn (£5.8bn) fraud  never made accounting decisions  a witness has told jurors.  david myers made\n",
      "==========\n",
      "Cluster 4\n",
      "Key terms  : cup,game,match,coach,side\n",
      "Sample doc : yeading face newcastle in fa cup premiership side newcastle united face a trip to ryman premier league leaders yeading in the fa cup third round.  the game - arguably the highlight of the draw - is a \n",
      "==========\n",
      "Cluster 5\n",
      "Key terms  : mr,labour,election,government,party\n",
      "Sample doc : worldcom boss  left books alone  former worldcom boss bernie ebbers  who is accused of overseeing an $11bn (£5.8bn) fraud  never made accounting decisions  a witness has told jurors.  david myers made\n",
      "==========\n"
     ]
    }
   ],
   "source": [
    "for k in range(len(clusterDocs)):\n",
    "    key = ','.join(clusterKeyterms[k][:5])\n",
    "    sample_doc = bbc[clusterDocs[k][0]][:200]\n",
    "    print(f'Cluster {k + 1}')\n",
    "    print(f'Key terms  : {key}')\n",
    "    print(f'Sample doc : {sample_doc}')\n",
    "    print('=' * 10)"
   ]
  }
 ],
 "metadata": {
  "kernelspec": {
   "display_name": "Python 3",
   "language": "python",
   "name": "python3"
  },
  "language_info": {
   "codemirror_mode": {
    "name": "ipython",
    "version": 3
   },
   "file_extension": ".py",
   "mimetype": "text/x-python",
   "name": "python",
   "nbconvert_exporter": "python",
   "pygments_lexer": "ipython3",
   "version": "3.6.5"
  }
 },
 "nbformat": 4,
 "nbformat_minor": 2
}
